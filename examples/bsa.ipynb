{
 "cells": [
  {
   "cell_type": "markdown",
   "metadata": {},
   "source": [
    "<!--\n",
    "Copyright 2022 Kenji Harada\n",
    "-->\n",
    "# Finite-Size Scaling method by Gaussian Process\n",
    "The finite-size scaling (FSS) method is a powerful tool for getting universal information of critical phenomena. It estimates universal information from observables of critical phenomena at finite-size systems. In this document, we will introduce a FSS method based on Gaussian process (GP).\n",
    "\n",
    "- Kenji Harada: Bayesian inference in the scaling analysis of critical phenomena, Physical Review E 84 (2011) 056704.  \n",
    " DOI: [10.1103/PhysRevE.84.056704](https://hdl.handle.net/10.1103/PhysRevE.84.056704 \"FSS by GP\")\n",
    "- Kenji Harada: Kernel method for corrections to scaling, Physical Review E 92 (2015) 012106.  \n",
    "DOI: [10.1103/PhysRevE.92.012106](https://hdl.handle.net/10.1103/PhysRevE.92.012106 \"FSS by GP\")"
   ]
  },
  {
   "cell_type": "markdown",
   "metadata": {},
   "source": [
    "## Finite-size scaling law of a critical phase transition\n",
    "The finite-size scaling (FSS) law describes the observables of critical phenomena in a finite-size system. It is written as\n",
    "$$\n",
    "A(L, T) = L^{-c_2} f[(T-T_c)L^{c_1}],\n",
    "$$\n",
    "where T is a temperature, L is a system size, A is observable, and $f[]$ is a scaling function. $T_c$ is a critical temperature, and $c_1$ and $c_2$ are critical exponents. We want to find these parameters to describe observables. If we introduce new variables as\n",
    "\\begin{align*}\n",
    "X &= (T-T_c)L^{c_1},\\\\\n",
    "Y &= A/L^{-c_2} = A L^{c_2},\n",
    "\\end{align*}\n",
    "then the FSS law is\n",
    "$$\n",
    "Y = f[X].\n",
    "$$\n",
    "In usual, we write $c_1 = 1/\\nu$. The $\\nu$ is a critical exponent of a correlation length as\n",
    "$$\n",
    "\\xi \\propto (T-T_c)^{-\\nu}.\n",
    "$$"
   ]
  },
  {
   "cell_type": "markdown",
   "metadata": {},
   "source": [
    "## Modeling a scaling function by GP\n",
    "Although the scaling function is unclear in the FSS law, we model it in the Gaussian Process(GP) as\n",
    "$$\n",
    "\\vec{y} = f[\\vec{x}] \\ \\Rightarrow \\vec{y} \\approx N[m, \\Sigma],\n",
    "$$\n",
    "where $N[]$ is a multivariate normal distribution with a mean $m$ and a variance-covariance matrix $\\Sigma$. The variance-covariance matrix is defined by a kernel function $K$ as\n",
    "$$\n",
    "\\Sigma = K(\\vec{x}, \\vec{x}).\n",
    "$$\n",
    "Here, we use a radial basis function kernel as\n",
    "$$\n",
    "K(\\vec{x}, \\vec{x'}) = \\theta_0^2 \\exp\\left[\\frac{|\\vec{x}-\\vec{x'}|^2}{2\\theta_1^2}\\right].\n",
    "$$\n",
    "\n",
    "In summary, we consider observables in the FSS law as stochastic variables based on the Gaussian process as\n",
    "$$\n",
    "Y \\approx N[m, K(X, X)] +\\epsilon \\pm E\\\\\n",
    "\\ \\Rightarrow \\ \\vec{Y} \\approx N[ N[m, K(\\vec{X}, \\vec{X})], \\vec{\\sigma}^2 + \\vec{E}^2]\n",
    "$$\n",
    "where $\\epsilon$ is a normal distribution with a mean zero and a variance $\\sigma^2$ and $E$ is (an error of A) $\\times L^{c_2}$. We optimize all parameters $T_c, c_1, c_2, \\theta_0, \\theta_1, m, \\vec{\\sigma^2}$ to maximize the likelihood."
   ]
  },
  {
   "cell_type": "markdown",
   "metadata": {},
   "source": [
    "## The Ising model on a square lattice\n",
    "For example, we will try to do a FSS analysis for the two-dimensional Ising model on a square lattice.\n",
    "\n",
    "The Hamiltonian $H$ of the Ising model is \n",
    "$$\n",
    "H= -\\sum_{\\langle ij \\rangle} \\sigma_i \\sigma_j,\n",
    "$$\n",
    "where $\\sigma$ is an Ising variable ($\\pm 1$) and $\\langle ij \\rangle$ is a pair of nearest neighbor sites on a square lattice.\n",
    "\n",
    "The partition function $Z$ is\n",
    "$$\n",
    "Z = \\sum_{\\vec{\\sigma}} \\exp(-H/T),\n",
    "$$\n",
    "where $T$ is a temperature.\n",
    "The magnetization $M$ is\n",
    "$$\n",
    "M = \\sum_i \\sigma_i  / L^2,\n",
    "$$\n",
    "where $L$ is a system size. This is an order parameter of the Ising phase transition.\n",
    "The susceptibility $\\chi$ is\n",
    "$$\n",
    "\\chi = \\langle M^2 \\rangle.\n",
    "$$\n",
    "\n",
    "The two-dimensional Ising model has a critical phase transition at a critical temperature.\n",
    "At the high temperatures, there is no order, and the averaged order parameter is zero. But, the order parameter continuously appears from a critical temperature. Below the critical temperature, the order parameter is finite. In particular, there is an exact solution of the square Ising model by Onsager (1944). Thus, the two-dimensional Ising model is the first non-trivial solvable model of a critical phase transition.\n",
    "\n",
    "In the case of the square Ising model, the critical temperature $T_c$ is $\\frac{1}{2} \\log[1+\\sqrt{2}]$.\n",
    "The critical exponents $c_1$ and $c_2$ of the susceptibility $\\chi$ are\n",
    "\\begin{align*}\n",
    "&c_1 = 1/\\nu = 1,\\\\\n",
    "&c_2 = -\\frac{\\gamma}{\\nu} = -\\frac{7}{4}.\n",
    "\\end{align*}\n"
   ]
  },
  {
   "cell_type": "code",
   "execution_count": 1,
   "metadata": {},
   "outputs": [],
   "source": [
    "import math\n",
    "# Critical temperature of the square Ising model\n",
    "tc_true = 0.5 * math.log(1+math.sqrt(2))\n",
    "# For the susceptibility\n",
    "c1_true, c2_true = (1.0, -1.75)"
   ]
  },
  {
   "cell_type": "markdown",
   "metadata": {},
   "source": [
    "## Doing a FSS analysis by GP"
   ]
  },
  {
   "cell_type": "markdown",
   "metadata": {},
   "source": [
    "### Preparation\n",
    "The following modules are necessary."
   ]
  },
  {
   "cell_type": "code",
   "execution_count": 2,
   "metadata": {},
   "outputs": [],
   "source": [
    "import torch\n",
    "import torch.optim as optim\n",
    "import gpytorch\n",
    "import matplotlib.pyplot as plt"
   ]
  },
  {
   "cell_type": "markdown",
   "metadata": {},
   "source": [
    "The following are special modules for doing the FSS method by the GP."
   ]
  },
  {
   "cell_type": "code",
   "execution_count": 3,
   "metadata": {},
   "outputs": [],
   "source": [
    "import sys, os\n",
    "sys.path.append(os.path.abspath(\"../src\"))\n",
    "import fss_torch"
   ]
  },
  {
   "cell_type": "markdown",
   "metadata": {},
   "source": [
    "\n",
    "We first declare the dataset and transformer classes.\n",
    "\n",
    "### Dataset class\n",
    "The dataset class stores the data of susceptibility. Each line of the data file consists of four values (system size, temperature, observable, statistical error). All data are automatically rescaled to do a finite-size scaling. In particular, the temperature is also transformed to a new scale. The two functions are prepared as \"transform_t\" and \"inv_transform_t\" in the dataset class."
   ]
  },
  {
   "cell_type": "code",
   "execution_count": 4,
   "metadata": {},
   "outputs": [],
   "source": [
    "dataset = fss_torch.fss.Dataset.fromFile(fname=\"./Data/Ising2D/ising-square-X.dat\")"
   ]
  },
  {
   "cell_type": "markdown",
   "metadata": {},
   "source": [
    "\n",
    "### Transformer class\n",
    "The transformer class defines the transformation of four variables to the new variables (X, Y, E). It needs the initial values of a critical temperature, $c_1$, and $c_2$. The $T_c$ should be inversely transformed to an original scale by \"inv_transform_t\" function in the dataset class."
   ]
  },
  {
   "cell_type": "code",
   "execution_count": 5,
   "metadata": {},
   "outputs": [],
   "source": [
    "rtc, rc1, rc2 = (0.98, 0.9, 0.9)\n",
    "initial_values = [dataset.transform_t(tc_true * rtc), c1_true * rc1, c2_true * rc2]\n",
    "transform = fss_torch.fss.Transform(initial_values)"
   ]
  },
  {
   "cell_type": "markdown",
   "metadata": {},
   "source": [
    "### GP Model\n",
    "We define the GP model."
   ]
  },
  {
   "cell_type": "code",
   "execution_count": 6,
   "metadata": {},
   "outputs": [],
   "source": [
    "model = fss_torch.bsa_util.GP()"
   ]
  },
  {
   "cell_type": "markdown",
   "metadata": {},
   "source": [
    "### Optimizer \n",
    "We set the parameters of the GP model in an optimizer. The parameters of the transformer are also added in the optimizer. The learning rates are important to obtain a good result."
   ]
  },
  {
   "cell_type": "code",
   "execution_count": 7,
   "metadata": {},
   "outputs": [],
   "source": [
    "optimizer = optim.Adam(model.parameters(), lr = 0.1)\n",
    "optimizer.add_param_group({\"params\": transform.parameters(), \"lr\":0.01})"
   ]
  },
  {
   "cell_type": "markdown",
   "metadata": {},
   "source": [
    "### Optimizing all paramters\n",
    "The optimization steps are\n",
    "1. transform original values to (X, Y, E) in a scaling function.\n",
    "2. calculate a loss function by the GP model.\n",
    "3. update all parameters."
   ]
  },
  {
   "cell_type": "code",
   "execution_count": 8,
   "metadata": {},
   "outputs": [],
   "source": [
    "losses = []\n",
    "results = []\n",
    "model.train()\n",
    "for epoch in range(1000):\n",
    "    optimizer.zero_grad()\n",
    "    new_data = transform(dataset.data)\n",
    "    X, Y, E = new_data[:,0], new_data[:,1], new_data[:,2]\n",
    "    loss = model.loss(X, Y, E)\n",
    "    loss.backward()\n",
    "    optimizer.step()\n",
    "    losses.append(loss.item())\n",
    "    results.append([dataset.inv_transform_t(transform.tc), transform.c1, transform.c2])"
   ]
  },
  {
   "cell_type": "markdown",
   "metadata": {},
   "source": [
    "We check results of $T_c$, $c_1$ and $c_2$."
   ]
  },
  {
   "cell_type": "code",
   "execution_count": 9,
   "metadata": {},
   "outputs": [
    {
     "name": "stdout",
     "output_type": "stream",
     "text": [
      "Exact values : Tc = 0.44068679350977147, c1 = 1.0, c2 = -1.75\n",
      "Results of FSS : Tc = 0.4407038121663902, c1 = 0.9744104146957397, c2 = -1.7414286136627197\n"
     ]
    }
   ],
   "source": [
    "tc_results, c1_results, c2_results = (dataset.inv_transform_t(transform.tc), transform.c1, transform.c2)\n",
    "print(\"Exact values : Tc = {}, c1 = {}, c2 = {}\".format(tc_true, c1_true, c2_true))\n",
    "print(\"Results of FSS : Tc = {}, c1 = {}, c2 = {}\".format(tc_results, c1_results, c2_results))"
   ]
  },
  {
   "cell_type": "markdown",
   "metadata": {},
   "source": [
    "We plot a scaling function, loss and optimization process of paramters $T_c$ and $c_2$."
   ]
  },
  {
   "cell_type": "code",
   "execution_count": 10,
   "metadata": {},
   "outputs": [
    {
     "data": {
      "text/plain": [
       "[<matplotlib.lines.Line2D at 0x7fc158c94e20>]"
      ]
     },
     "execution_count": 10,
     "metadata": {},
     "output_type": "execute_result"
    },
    {
     "data": {
      "image/png": "[encoded data removed]",
      "text/plain": [
       "<Figure size 360x360 with 1 Axes>"
      ]
     },
     "metadata": {
      "needs_background": "light"
     },
     "output_type": "display_data"
    },
    {
     "data": {
      "image/png": "[encoded data removed]",
      "text/plain": [
       "<Figure size 360x360 with 1 Axes>"
      ]
     },
     "metadata": {
      "needs_background": "light"
     },
     "output_type": "display_data"
    },
    {
     "data": {
      "image/png": "[encoded data removed]",
      "text/plain": [
       "<Figure size 360x360 with 1 Axes>"
      ]
     },
     "metadata": {
      "needs_background": "light"
     },
     "output_type": "display_data"
    }
   ],
   "source": [
    "fig, ax0 = plt.subplots(figsize=(5,5))\n",
    "model.eval()\n",
    "new_data = transform(dataset.data)\n",
    "X, Y, E = new_data[:,0], new_data[:,1], new_data[:,2]\n",
    "test_x = torch.linspace(-1, 1, 51)\n",
    "observed_pred = model.prediction(test_x)\n",
    "ax0.set_title(\"Scaling function\")\n",
    "ax0.set_xlabel(\"X = (T-Tc)L^c1\")\n",
    "ax0.set_ylabel(\"Y = A L^c2\")\n",
    "ax0.plot(test_x, observed_pred.mean.detach().numpy())\n",
    "ax0.plot(X.detach().numpy(), Y.detach().numpy(), 'b*')\n",
    "\n",
    "fig, ax1 = plt.subplots(figsize=(5,5))\n",
    "ax1.set_title(\"Loss\")\n",
    "ax1.set_xlabel(\"epochs\")\n",
    "ax1.set_ylabel(\"loss\")\n",
    "ax1.set_xscale(\"log\")\n",
    "ax1.plot(losses)\n",
    "\n",
    "fig, ax2 = plt.subplots(figsize=(5,5))\n",
    "X = [r[0] for r in results[::1]]\n",
    "Y = [r[2] for r in results[::1]]\n",
    "ax2.set_title(\"Optimization of parameters\")\n",
    "ax2.set_xlabel(\"Tc\")\n",
    "ax2.set_ylabel(\"c2\")\n",
    "ax2.plot(X, Y, marker=\"o\")"
   ]
  }
 ],
 "metadata": {
  "interpreter": {
   "hash": "141ac8d778552b3a2f98facae4386288ea2a546890b2da949687bbdef9958244"
  },
  "kernelspec": {
   "display_name": "Python 3.9.7 ('pro_env9')",
   "language": "python",
   "name": "python3"
  },
  "language_info": {
   "codemirror_mode": {
    "name": "ipython",
    "version": 3
   },
   "file_extension": ".py",
   "mimetype": "text/x-python",
   "name": "python",
   "nbconvert_exporter": "python",
   "pygments_lexer": "ipython3",
   "version": "3.9.7"
  },
  "orig_nbformat": 4
 },
 "nbformat": 4,
 "nbformat_minor": 2
}
